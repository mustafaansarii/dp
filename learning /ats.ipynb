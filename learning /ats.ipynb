{
 "cells": [
  {
   "cell_type": "code",
   "execution_count": 2,
   "metadata": {},
   "outputs": [
    {
     "name": "stderr",
     "output_type": "stream",
     "text": [
      "[nltk_data] Downloading package punkt to /home/mustafa/nltk_data...\n",
      "[nltk_data]   Unzipping tokenizers/punkt.zip.\n",
      "[nltk_data] Downloading package stopwords to\n",
      "[nltk_data]     /home/mustafa/nltk_data...\n",
      "[nltk_data]   Unzipping corpora/stopwords.zip.\n"
     ]
    },
    {
     "data": {
      "text/plain": [
       "True"
      ]
     },
     "execution_count": 2,
     "metadata": {},
     "output_type": "execute_result"
    }
   ],
   "source": [
    "import nltk\n",
    "nltk.download('punkt')\n",
    "nltk.download('stopwords')\n"
   ]
  },
  {
   "cell_type": "code",
   "execution_count": 3,
   "metadata": {},
   "outputs": [
    {
     "name": "stderr",
     "output_type": "stream",
     "text": [
      "[nltk_data] Downloading package punkt to /home/mustafa/nltk_data...\n",
      "[nltk_data]   Package punkt is already up-to-date!\n",
      "[nltk_data] Downloading package stopwords to\n",
      "[nltk_data]     /home/mustafa/nltk_data...\n",
      "[nltk_data]   Package stopwords is already up-to-date!\n"
     ]
    },
    {
     "data": {
      "text/plain": [
       "True"
      ]
     },
     "execution_count": 3,
     "metadata": {},
     "output_type": "execute_result"
    }
   ],
   "source": [
    "import nltk\n",
    "nltk.download('punkt')\n",
    "nltk.download('stopwords')\n"
   ]
  },
  {
   "cell_type": "code",
   "execution_count": null,
   "metadata": {},
   "outputs": [
    {
     "ename": "",
     "evalue": "",
     "output_type": "error",
     "traceback": [
      "\u001b[1;31mRunning cells with 'usr (Python 3.10.16)' requires the ipykernel package.\n",
      "\u001b[1;31mRun the following command to install 'ipykernel' into the Python environment. \n",
      "\u001b[1;31mCommand: '/usr/bin/python3.10 -m pip install ipykernel -U --force-reinstall'"
     ]
    }
   ],
   "source": [
    "!pip install spacy"
   ]
  },
  {
   "cell_type": "code",
   "execution_count": null,
   "metadata": {},
   "outputs": [
    {
     "ename": "",
     "evalue": "",
     "output_type": "error",
     "traceback": [
      "\u001b[1;31mRunning cells with 'usr (Python 3.10.16)' requires the ipykernel package.\n",
      "\u001b[1;31mRun the following command to install 'ipykernel' into the Python environment. \n",
      "\u001b[1;31mCommand: '/usr/bin/python3.10 -m pip install ipykernel -U --force-reinstall'"
     ]
    }
   ],
   "source": [
    "# Update the package list and install build-essential and gcc\n",
    "!apt-get update && apt-get install -y build-essential gcc\n",
    "\n",
    "# Force install pip\n",
    "!python3 -m ensurepip --upgrade\n",
    "!python3 -m pip install --upgrade pip setuptools wheel\n"
   ]
  },
  {
   "cell_type": "code",
   "execution_count": null,
   "metadata": {},
   "outputs": [
    {
     "ename": "",
     "evalue": "",
     "output_type": "error",
     "traceback": [
      "\u001b[1;31mRunning cells with 'usr (Python 3.10.16)' requires the ipykernel package.\n",
      "\u001b[1;31mRun the following command to install 'ipykernel' into the Python environment. \n",
      "\u001b[1;31mCommand: '/usr/bin/python3.10 -m pip install ipykernel -U --force-reinstall'"
     ]
    }
   ],
   "source": [
    "! /usr/bin/python3.10 -m pip install ipykernel -U --force-reinstall\n"
   ]
  },
  {
   "cell_type": "code",
   "execution_count": null,
   "metadata": {},
   "outputs": [],
   "source": [
    "import csv\n",
    "import requests\n",
    "import pandas as pd\n",
    "\n",
    "CSV_FILE = \"coding_questions.csv\"\n",
    "API_URL = \"http://127.0.0.1:5000/add-qsn\"\n",
    "\n",
    "def add_questions_from_csv(csv_file):\n",
    "    df = pd.read_csv(csv_file)\n",
    "    \n",
    "    for _, row in df.iterrows():\n",
    "        payload = {\n",
    "            \"topic\": row[\"topic\"],\n",
    "            \"title\": row[\"title\"],\n",
    "            \"qsnlink\": row[\"qsnlink\"]\n",
    "        }\n",
    "        \n",
    "        response = requests.post(API_URL, json=payload)\n",
    "        \n",
    "        if response.status_code == 200:\n",
    "            print(f\"Successfully added: {row['title']}\")\n",
    "        else:\n",
    "            print(f\"Failed to add: {row['title']}. Error: {response.text}\")\n",
    "\n",
    "if __name__ == \"__main__\":\n",
    "    add_questions_from_csv(CSV_FILE)"
   ]
  },
  {
   "cell_type": "code",
   "execution_count": 1,
   "metadata": {},
   "outputs": [
    {
     "name": "stdout",
     "output_type": "stream",
     "text": [
      "Adding: Frontend Developer -> {'message': 'Roadmap added successfully'}\n",
      "Adding: Backend Developer -> {'message': 'Roadmap added successfully'}\n",
      "Adding: DevOps Roadmap -> {'message': 'Roadmap added successfully'}\n",
      "Adding: Full Stack Developer -> {'message': 'Roadmap added successfully'}\n",
      "Adding: Android Developer -> {'message': 'Roadmap added successfully'}\n",
      "Adding: Data Analyst Roadmap -> {'message': 'Roadmap added successfully'}\n",
      "Adding: AI Engineer -> {'message': 'Roadmap added successfully'}\n",
      "Adding: MLOps Roadmap -> {'message': 'Roadmap added successfully'}\n",
      "Adding: Spring Boot Developer -> {'message': 'Roadmap added successfully'}\n"
     ]
    }
   ],
   "source": []
  },
  {
   "cell_type": "code",
   "execution_count": 2,
   "metadata": {},
   "outputs": [
    {
     "name": "stdout",
     "output_type": "stream",
     "text": [
      "Adding: Jake's Resume -> {'message': 'Resume added successfully'}\n",
      "Adding: Resume Template by Anubhav -> {'message': 'Resume added successfully'}\n",
      "Adding: Jake's Resume (Anonymous) -> {'message': 'Resume added successfully'}\n",
      "Adding: Resume Template by Orest -> {'message': 'Resume added successfully'}\n",
      "Adding: harshibar's resume -> {'message': 'Resume added successfully'}\n",
      "Adding: Two-column CV template with ModernCV -> {'message': 'Resume added successfully'}\n",
      "Adding: Resume Professional Template - Software Engineer -> {'message': 'Resume added successfully'}\n",
      "Adding: Resume_public -> {'message': 'Resume added successfully'}\n",
      "Adding: SWE Resume Template -> {'message': 'Resume added successfully'}\n",
      "Adding: Matty's Resume -> {'message': 'Resume added successfully'}\n",
      "Adding: Omar's Resume -> {'message': 'Resume added successfully'}\n"
     ]
    }
   ],
   "source": []
  },
  {
   "cell_type": "code",
   "execution_count": null,
   "metadata": {},
   "outputs": [],
   "source": []
  }
 ],
 "metadata": {
  "kernelspec": {
   "display_name": "usr",
   "language": "python",
   "name": "python3"
  },
  "language_info": {
   "codemirror_mode": {
    "name": "ipython",
    "version": 3
   },
   "file_extension": ".py",
   "mimetype": "text/x-python",
   "name": "python",
   "nbconvert_exporter": "python",
   "pygments_lexer": "ipython3",
   "version": "3.13.1"
  }
 },
 "nbformat": 4,
 "nbformat_minor": 2
}
